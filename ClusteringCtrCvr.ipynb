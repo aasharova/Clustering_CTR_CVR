{
 "cells": [
  {
   "cell_type": "markdown",
   "id": "2e386337",
   "metadata": {},
   "source": [
    "## Выделение подгрупп с определенным ctr  и cvr. Применение статистических методов для ответов на некоторые вопросы."
   ]
  },
  {
   "cell_type": "markdown",
   "id": "f8cf8f6c",
   "metadata": {},
   "source": [
    "Была проведена пилотная рекламная кампания, по ее результатам собраны логи. Перед запуском основных РК рекламодатель хочет решить несколько задач. \n",
    " \n",
    "Для оценки эффективности бизнес использует 2 показателя\n",
    "ctr = количество кликов / количество показов\n",
    "cvr = количество юзеров, которые совершили конверсию / количество юзеров, которые перешли на сайт (кликнули)\n",
    " \n",
    "Задачи:\n",
    "Выделить подгруппы аудитории по соцдем и поведенческим признакам, для которой выборочная оценка ctr была бы не ниже 0.85%. Выбрать такие подгруппы\n",
    "Выделить подгруппы аудитории по соцдем и поведенческим признакам, для которой выборочная оценка cvr была бы не ниже 45%. \n",
    " \n",
    "Далее можно выбрать по 1 из подгрупп:\n",
    "   - значимо ли выше ctr для подгруппы аудитории, чем среди всего датасета охваченных РК?\n",
    "   - значимо ли выше cvr для подгруппы аудитории, чем среди всего датасета охваченных РК?\n",
    "   - какой будет размер эффекта для ctr если сравнивать выбранную подгруппу со всеми остальными юзерами (не с тоталом)\n",
    "   - какой будет размер эффекта для cvr если сравнивать выбранную подгруппу со всеми остальными юзерами (не с тоталом)\n",
    "   - рекламодатель скептик и ожидает минимальных изменений по сравнению с остальными юзерами:  он просит посчитать доверительный интервал для размера эффекта и указать его нижнюю границу для ctr и cvr"
   ]
  },
  {
   "cell_type": "code",
   "execution_count": 6,
   "id": "3da3fc0b",
   "metadata": {},
   "outputs": [],
   "source": [
    "import pandas as pd\n",
    "import numpy as np\n",
    "\n",
    "from sklearn.preprocessing import StandardScaler\n",
    "from sklearn.cluster import KMeans\n",
    "from sklearn.cluster import Birch\n",
    "from sklearn.impute import KNNImputer\n",
    "from sklearn.cluster import DBSCAN\n",
    "\n",
    "import matplotlib.pyplot as plt\n",
    "import seaborn as sns\n",
    "\n",
    "from statsmodels.stats.proportion import proportions_ztest\n",
    "from scipy.stats import t"
   ]
  },
  {
   "cell_type": "code",
   "execution_count": 2,
   "id": "58685422",
   "metadata": {},
   "outputs": [],
   "source": [
    "data = pd.read_csv('data_test_task_da.csv', sep='\\t')"
   ]
  },
  {
   "cell_type": "code",
   "execution_count": 3,
   "id": "646c656f",
   "metadata": {
    "scrolled": false
   },
   "outputs": [
    {
     "data": {
      "text/html": [
       "<div>\n",
       "<style scoped>\n",
       "    .dataframe tbody tr th:only-of-type {\n",
       "        vertical-align: middle;\n",
       "    }\n",
       "\n",
       "    .dataframe tbody tr th {\n",
       "        vertical-align: top;\n",
       "    }\n",
       "\n",
       "    .dataframe thead th {\n",
       "        text-align: right;\n",
       "    }\n",
       "</style>\n",
       "<table border=\"1\" class=\"dataframe\">\n",
       "  <thead>\n",
       "    <tr style=\"text-align: right;\">\n",
       "      <th></th>\n",
       "      <th>user_id</th>\n",
       "      <th>imp_id</th>\n",
       "      <th>ev_type</th>\n",
       "      <th>date</th>\n",
       "      <th>age</th>\n",
       "      <th>gender</th>\n",
       "      <th>family_status</th>\n",
       "      <th>employment_status</th>\n",
       "      <th>personal_income</th>\n",
       "      <th>temperament</th>\n",
       "    </tr>\n",
       "  </thead>\n",
       "  <tbody>\n",
       "    <tr>\n",
       "      <th>0</th>\n",
       "      <td>31053</td>\n",
       "      <td>1</td>\n",
       "      <td>1</td>\n",
       "      <td>dt1</td>\n",
       "      <td>48.0</td>\n",
       "      <td>1.0</td>\n",
       "      <td>44.0</td>\n",
       "      <td>26.0</td>\n",
       "      <td>41.0</td>\n",
       "      <td>NaN</td>\n",
       "    </tr>\n",
       "    <tr>\n",
       "      <th>1</th>\n",
       "      <td>78689</td>\n",
       "      <td>1</td>\n",
       "      <td>7</td>\n",
       "      <td>dt3</td>\n",
       "      <td>17.0</td>\n",
       "      <td>0.0</td>\n",
       "      <td>NaN</td>\n",
       "      <td>NaN</td>\n",
       "      <td>NaN</td>\n",
       "      <td>NaN</td>\n",
       "    </tr>\n",
       "    <tr>\n",
       "      <th>2</th>\n",
       "      <td>143516</td>\n",
       "      <td>1</td>\n",
       "      <td>0</td>\n",
       "      <td>dt4</td>\n",
       "      <td>15.0</td>\n",
       "      <td>0.0</td>\n",
       "      <td>44.0</td>\n",
       "      <td>27.0</td>\n",
       "      <td>39.0</td>\n",
       "      <td>NaN</td>\n",
       "    </tr>\n",
       "    <tr>\n",
       "      <th>3</th>\n",
       "      <td>116742</td>\n",
       "      <td>2</td>\n",
       "      <td>0</td>\n",
       "      <td>dt4</td>\n",
       "      <td>NaN</td>\n",
       "      <td>0.0</td>\n",
       "      <td>44.0</td>\n",
       "      <td>27.0</td>\n",
       "      <td>38.0</td>\n",
       "      <td>NaN</td>\n",
       "    </tr>\n",
       "    <tr>\n",
       "      <th>4</th>\n",
       "      <td>140422</td>\n",
       "      <td>3</td>\n",
       "      <td>0</td>\n",
       "      <td>dt8</td>\n",
       "      <td>57.0</td>\n",
       "      <td>0.0</td>\n",
       "      <td>44.0</td>\n",
       "      <td>26.0</td>\n",
       "      <td>40.0</td>\n",
       "      <td>NaN</td>\n",
       "    </tr>\n",
       "  </tbody>\n",
       "</table>\n",
       "</div>"
      ],
      "text/plain": [
       "   user_id  imp_id  ev_type date   age  gender  family_status  \\\n",
       "0    31053       1        1  dt1  48.0     1.0           44.0   \n",
       "1    78689       1        7  dt3  17.0     0.0            NaN   \n",
       "2   143516       1        0  dt4  15.0     0.0           44.0   \n",
       "3   116742       2        0  dt4   NaN     0.0           44.0   \n",
       "4   140422       3        0  dt8  57.0     0.0           44.0   \n",
       "\n",
       "   employment_status  personal_income  temperament  \n",
       "0               26.0             41.0          NaN  \n",
       "1                NaN              NaN          NaN  \n",
       "2               27.0             39.0          NaN  \n",
       "3               27.0             38.0          NaN  \n",
       "4               26.0             40.0          NaN  "
      ]
     },
     "execution_count": 3,
     "metadata": {},
     "output_type": "execute_result"
    }
   ],
   "source": [
    "data[:5]"
   ]
  },
  {
   "cell_type": "code",
   "execution_count": 4,
   "id": "0afda82c",
   "metadata": {
    "scrolled": true
   },
   "outputs": [
    {
     "data": {
      "text/html": [
       "<div>\n",
       "<style scoped>\n",
       "    .dataframe tbody tr th:only-of-type {\n",
       "        vertical-align: middle;\n",
       "    }\n",
       "\n",
       "    .dataframe tbody tr th {\n",
       "        vertical-align: top;\n",
       "    }\n",
       "\n",
       "    .dataframe thead th {\n",
       "        text-align: right;\n",
       "    }\n",
       "</style>\n",
       "<table border=\"1\" class=\"dataframe\">\n",
       "  <thead>\n",
       "    <tr style=\"text-align: right;\">\n",
       "      <th></th>\n",
       "      <th>imp_id</th>\n",
       "      <th>user_id</th>\n",
       "      <th>ev_type</th>\n",
       "      <th>date</th>\n",
       "      <th>age</th>\n",
       "      <th>gender</th>\n",
       "      <th>family_status</th>\n",
       "      <th>employment_status</th>\n",
       "      <th>personal_income</th>\n",
       "      <th>temperament</th>\n",
       "    </tr>\n",
       "  </thead>\n",
       "  <tbody>\n",
       "    <tr>\n",
       "      <th>count</th>\n",
       "      <td>260716</td>\n",
       "      <td>260716</td>\n",
       "      <td>260716</td>\n",
       "      <td>260716</td>\n",
       "      <td>240979.0</td>\n",
       "      <td>241731.0</td>\n",
       "      <td>163757.0</td>\n",
       "      <td>163882.0</td>\n",
       "      <td>163224.0</td>\n",
       "      <td>37000.0</td>\n",
       "    </tr>\n",
       "    <tr>\n",
       "      <th>unique</th>\n",
       "      <td>258095</td>\n",
       "      <td>147251</td>\n",
       "      <td>3</td>\n",
       "      <td>8</td>\n",
       "      <td>72.0</td>\n",
       "      <td>2.0</td>\n",
       "      <td>2.0</td>\n",
       "      <td>2.0</td>\n",
       "      <td>5.0</td>\n",
       "      <td>4.0</td>\n",
       "    </tr>\n",
       "    <tr>\n",
       "      <th>top</th>\n",
       "      <td>1</td>\n",
       "      <td>54101</td>\n",
       "      <td>0</td>\n",
       "      <td>dt2</td>\n",
       "      <td>17.0</td>\n",
       "      <td>1.0</td>\n",
       "      <td>44.0</td>\n",
       "      <td>26.0</td>\n",
       "      <td>39.0</td>\n",
       "      <td>197.0</td>\n",
       "    </tr>\n",
       "    <tr>\n",
       "      <th>freq</th>\n",
       "      <td>3</td>\n",
       "      <td>45</td>\n",
       "      <td>257966</td>\n",
       "      <td>45149</td>\n",
       "      <td>11226.0</td>\n",
       "      <td>147513.0</td>\n",
       "      <td>115144.0</td>\n",
       "      <td>88038.0</td>\n",
       "      <td>66817.0</td>\n",
       "      <td>17612.0</td>\n",
       "    </tr>\n",
       "  </tbody>\n",
       "</table>\n",
       "</div>"
      ],
      "text/plain": [
       "        imp_id  user_id  ev_type    date       age    gender  family_status  \\\n",
       "count   260716   260716   260716  260716  240979.0  241731.0       163757.0   \n",
       "unique  258095   147251        3       8      72.0       2.0            2.0   \n",
       "top          1    54101        0     dt2      17.0       1.0           44.0   \n",
       "freq         3       45   257966   45149   11226.0  147513.0       115144.0   \n",
       "\n",
       "        employment_status  personal_income  temperament  \n",
       "count            163882.0         163224.0      37000.0  \n",
       "unique                2.0              5.0          4.0  \n",
       "top                  26.0             39.0        197.0  \n",
       "freq              88038.0          66817.0      17612.0  "
      ]
     },
     "execution_count": 4,
     "metadata": {},
     "output_type": "execute_result"
    }
   ],
   "source": [
    "#посмотрим на топ значения\n",
    "data[['imp_id', 'user_id','ev_type','date', 'age', 'gender', 'family_status', 'employment_status','personal_income','temperament']].astype(object).describe(include='object')"
   ]
  },
  {
   "cell_type": "code",
   "execution_count": 5,
   "id": "42a69910",
   "metadata": {},
   "outputs": [
    {
     "data": {
      "text/plain": [
       "user_id                   0\n",
       "imp_id                    0\n",
       "ev_type                   0\n",
       "date                      0\n",
       "age                   19737\n",
       "gender                18985\n",
       "family_status         96959\n",
       "employment_status     96834\n",
       "personal_income       97492\n",
       "temperament          223716\n",
       "dtype: int64"
      ]
     },
     "execution_count": 5,
     "metadata": {},
     "output_type": "execute_result"
    }
   ],
   "source": [
    "#сколько нанов в каждой колонке\n",
    "data.isnull().sum()"
   ]
  },
  {
   "cell_type": "code",
   "execution_count": 6,
   "id": "b2252fe7",
   "metadata": {},
   "outputs": [],
   "source": [
    "#пропущенных колонок слишком много, воспользуемся KNNImputer, чтобы их заполнить\n",
    "\n",
    "#для начала колонку date переведем в вещественное значение\n",
    "data['date'] = data['date'].str[-1].astype(float)\n",
    "\n",
    "#посчитаем KNNImputer на 2 соседях\n",
    "imputer = KNNImputer(n_neighbors=2)\n",
    "imputer.fit(data.sample(5000, random_state=42))\n",
    "data_imputer = imputer.transform(data)\n",
    "\n",
    "data_imputer = pd.DataFrame(data_imputer)\n",
    "data_imputer.columns = data.columns"
   ]
  },
  {
   "cell_type": "code",
   "execution_count": 7,
   "id": "6a235389",
   "metadata": {},
   "outputs": [
    {
     "data": {
      "text/html": [
       "<div>\n",
       "<style scoped>\n",
       "    .dataframe tbody tr th:only-of-type {\n",
       "        vertical-align: middle;\n",
       "    }\n",
       "\n",
       "    .dataframe tbody tr th {\n",
       "        vertical-align: top;\n",
       "    }\n",
       "\n",
       "    .dataframe thead th {\n",
       "        text-align: right;\n",
       "    }\n",
       "</style>\n",
       "<table border=\"1\" class=\"dataframe\">\n",
       "  <thead>\n",
       "    <tr style=\"text-align: right;\">\n",
       "      <th></th>\n",
       "      <th>user_id</th>\n",
       "      <th>imp_id</th>\n",
       "      <th>ev_type</th>\n",
       "      <th>date</th>\n",
       "      <th>age</th>\n",
       "      <th>gender</th>\n",
       "      <th>family_status</th>\n",
       "      <th>employment_status</th>\n",
       "      <th>personal_income</th>\n",
       "      <th>temperament</th>\n",
       "    </tr>\n",
       "  </thead>\n",
       "  <tbody>\n",
       "    <tr>\n",
       "      <th>0</th>\n",
       "      <td>31053.0</td>\n",
       "      <td>1.0</td>\n",
       "      <td>1.0</td>\n",
       "      <td>1.0</td>\n",
       "      <td>48.0</td>\n",
       "      <td>1.0</td>\n",
       "      <td>44.0</td>\n",
       "      <td>26.0</td>\n",
       "      <td>41.0</td>\n",
       "      <td>196.5</td>\n",
       "    </tr>\n",
       "    <tr>\n",
       "      <th>1</th>\n",
       "      <td>78689.0</td>\n",
       "      <td>1.0</td>\n",
       "      <td>7.0</td>\n",
       "      <td>3.0</td>\n",
       "      <td>17.0</td>\n",
       "      <td>0.0</td>\n",
       "      <td>43.0</td>\n",
       "      <td>26.0</td>\n",
       "      <td>39.5</td>\n",
       "      <td>196.0</td>\n",
       "    </tr>\n",
       "    <tr>\n",
       "      <th>2</th>\n",
       "      <td>143516.0</td>\n",
       "      <td>1.0</td>\n",
       "      <td>0.0</td>\n",
       "      <td>4.0</td>\n",
       "      <td>15.0</td>\n",
       "      <td>0.0</td>\n",
       "      <td>44.0</td>\n",
       "      <td>27.0</td>\n",
       "      <td>39.0</td>\n",
       "      <td>197.5</td>\n",
       "    </tr>\n",
       "    <tr>\n",
       "      <th>3</th>\n",
       "      <td>116742.0</td>\n",
       "      <td>2.0</td>\n",
       "      <td>0.0</td>\n",
       "      <td>4.0</td>\n",
       "      <td>25.0</td>\n",
       "      <td>0.0</td>\n",
       "      <td>44.0</td>\n",
       "      <td>27.0</td>\n",
       "      <td>38.0</td>\n",
       "      <td>196.0</td>\n",
       "    </tr>\n",
       "    <tr>\n",
       "      <th>4</th>\n",
       "      <td>140422.0</td>\n",
       "      <td>3.0</td>\n",
       "      <td>0.0</td>\n",
       "      <td>8.0</td>\n",
       "      <td>57.0</td>\n",
       "      <td>0.0</td>\n",
       "      <td>44.0</td>\n",
       "      <td>26.0</td>\n",
       "      <td>40.0</td>\n",
       "      <td>197.5</td>\n",
       "    </tr>\n",
       "  </tbody>\n",
       "</table>\n",
       "</div>"
      ],
      "text/plain": [
       "    user_id  imp_id  ev_type  date   age  gender  family_status  \\\n",
       "0   31053.0     1.0      1.0   1.0  48.0     1.0           44.0   \n",
       "1   78689.0     1.0      7.0   3.0  17.0     0.0           43.0   \n",
       "2  143516.0     1.0      0.0   4.0  15.0     0.0           44.0   \n",
       "3  116742.0     2.0      0.0   4.0  25.0     0.0           44.0   \n",
       "4  140422.0     3.0      0.0   8.0  57.0     0.0           44.0   \n",
       "\n",
       "   employment_status  personal_income  temperament  \n",
       "0               26.0             41.0        196.5  \n",
       "1               26.0             39.5        196.0  \n",
       "2               27.0             39.0        197.5  \n",
       "3               27.0             38.0        196.0  \n",
       "4               26.0             40.0        197.5  "
      ]
     },
     "execution_count": 7,
     "metadata": {},
     "output_type": "execute_result"
    }
   ],
   "source": [
    "data_imputer[:5]"
   ]
  },
  {
   "cell_type": "code",
   "execution_count": 8,
   "id": "2eedeae3",
   "metadata": {},
   "outputs": [
    {
     "name": "stdout",
     "output_type": "stream",
     "text": [
      "CTR в изначальной выборке = 0.7780095051285829\n",
      "CVR в изначальной выборке = 37.02042850024913\n"
     ]
    }
   ],
   "source": [
    "#ctr и cvr в датасете\n",
    "def ctr_function(data):\n",
    "    return len(data[data[\"ev_type\"] == 1]) / len(data[data[\"ev_type\"] == 0]) * 100\n",
    "\n",
    "def cvr_function(data):\n",
    "    return len(data[data[\"ev_type\"] == 7]) / len(data[data[\"ev_type\"] == 1]) * 100\n",
    "\n",
    "ctr_data = ctr_function(data)\n",
    "cvr_data = cvr_function(data)\n",
    "\n",
    "print(f'CTR в изначальной выборке = {ctr_data}')\n",
    "print(f'CVR в изначальной выборке = {cvr_data}')"
   ]
  },
  {
   "cell_type": "code",
   "execution_count": 11,
   "id": "a0b84e62",
   "metadata": {},
   "outputs": [
    {
     "data": {
      "image/png": "[encoded data removed]",
      "text/plain": [
       "<Figure size 1152x720 with 1 Axes>"
      ]
     },
     "metadata": {
      "needs_background": "light"
     },
     "output_type": "display_data"
    }
   ],
   "source": [
    "#распределение возраста по действию\n",
    "fig = plt.figure()\n",
    "fig.set_size_inches(16, 10)\n",
    "    \n",
    "sns.boxplot(y='age', x=data['ev_type'].astype('category'), data=data, hue=\"gender\")\n",
    "plt.show()\n",
    "\n",
    "#в целом, интересно, что чаще конверсию совершают люди постарше (медиана у 7 типа на уровне ~age=38)"
   ]
  },
  {
   "cell_type": "markdown",
   "id": "56615487",
   "metadata": {},
   "source": [
    "## 1. Выделение подгрупп"
   ]
  },
  {
   "cell_type": "code",
   "execution_count": 12,
   "id": "f343f770",
   "metadata": {
    "scrolled": false
   },
   "outputs": [],
   "source": [
    "def calculate_ctr_cvr_group(group):\n",
    "    d = {}\n",
    "    total_impressions = len(group[group['ev_type'] == 0])\n",
    "    total_clicks = len(group[group['ev_type'] == 1])\n",
    "    total_conversions = len(group[group['ev_type'] == 7])\n",
    "    \n",
    "    ctr = ctr_function(group) if total_impressions != 0 else 0\n",
    "    cvr = cvr_function(group) if total_clicks != 0 else 0\n",
    "    unique_users = group['user_id'].nunique()\n",
    "    \n",
    "    d['ctr'] = ctr\n",
    "    d['cvr'] = cvr\n",
    "    d['unique_users'] = unique_users\n",
    "    return pd.Series(d, index=['ctr', 'cvr', 'unique_users'])"
   ]
  },
  {
   "cell_type": "code",
   "execution_count": 13,
   "id": "23ab5423",
   "metadata": {},
   "outputs": [
    {
     "data": {
      "text/html": [
       "<div>\n",
       "<style scoped>\n",
       "    .dataframe tbody tr th:only-of-type {\n",
       "        vertical-align: middle;\n",
       "    }\n",
       "\n",
       "    .dataframe tbody tr th {\n",
       "        vertical-align: top;\n",
       "    }\n",
       "\n",
       "    .dataframe thead th {\n",
       "        text-align: right;\n",
       "    }\n",
       "</style>\n",
       "<table border=\"1\" class=\"dataframe\">\n",
       "  <thead>\n",
       "    <tr style=\"text-align: right;\">\n",
       "      <th></th>\n",
       "      <th></th>\n",
       "      <th></th>\n",
       "      <th></th>\n",
       "      <th>ctr</th>\n",
       "      <th>cvr</th>\n",
       "      <th>unique_users</th>\n",
       "    </tr>\n",
       "    <tr>\n",
       "      <th>age</th>\n",
       "      <th>gender</th>\n",
       "      <th>family_status</th>\n",
       "      <th>personal_income</th>\n",
       "      <th></th>\n",
       "      <th></th>\n",
       "      <th></th>\n",
       "    </tr>\n",
       "  </thead>\n",
       "  <tbody>\n",
       "    <tr>\n",
       "      <th>15.0</th>\n",
       "      <th>1.0</th>\n",
       "      <th>44.0</th>\n",
       "      <th>40.0</th>\n",
       "      <td>1.317829</td>\n",
       "      <td>35.294118</td>\n",
       "      <td>705.0</td>\n",
       "    </tr>\n",
       "    <tr>\n",
       "      <th>16.0</th>\n",
       "      <th>0.0</th>\n",
       "      <th>44.0</th>\n",
       "      <th>40.0</th>\n",
       "      <td>1.224490</td>\n",
       "      <td>20.000000</td>\n",
       "      <td>639.0</td>\n",
       "    </tr>\n",
       "    <tr>\n",
       "      <th rowspan=\"2\" valign=\"top\">17.0</th>\n",
       "      <th rowspan=\"2\" valign=\"top\">0.0</th>\n",
       "      <th rowspan=\"2\" valign=\"top\">44.0</th>\n",
       "      <th>38.0</th>\n",
       "      <td>0.916031</td>\n",
       "      <td>0.000000</td>\n",
       "      <td>670.0</td>\n",
       "    </tr>\n",
       "    <tr>\n",
       "      <th>39.0</th>\n",
       "      <td>0.942350</td>\n",
       "      <td>29.411765</td>\n",
       "      <td>1039.0</td>\n",
       "    </tr>\n",
       "    <tr>\n",
       "      <th rowspan=\"2\" valign=\"top\">18.0</th>\n",
       "      <th>0.0</th>\n",
       "      <th>44.0</th>\n",
       "      <th>39.0</th>\n",
       "      <td>1.031814</td>\n",
       "      <td>25.000000</td>\n",
       "      <td>703.0</td>\n",
       "    </tr>\n",
       "    <tr>\n",
       "      <th>1.0</th>\n",
       "      <th>44.0</th>\n",
       "      <th>39.0</th>\n",
       "      <td>1.047443</td>\n",
       "      <td>23.529412</td>\n",
       "      <td>1054.0</td>\n",
       "    </tr>\n",
       "    <tr>\n",
       "      <th rowspan=\"2\" valign=\"top\">19.0</th>\n",
       "      <th rowspan=\"2\" valign=\"top\">0.0</th>\n",
       "      <th rowspan=\"2\" valign=\"top\">44.0</th>\n",
       "      <th>38.0</th>\n",
       "      <td>0.962861</td>\n",
       "      <td>0.000000</td>\n",
       "      <td>883.0</td>\n",
       "    </tr>\n",
       "    <tr>\n",
       "      <th>39.0</th>\n",
       "      <td>0.872818</td>\n",
       "      <td>14.285714</td>\n",
       "      <td>527.0</td>\n",
       "    </tr>\n",
       "    <tr>\n",
       "      <th>20.0</th>\n",
       "      <th>0.0</th>\n",
       "      <th>44.0</th>\n",
       "      <th>38.0</th>\n",
       "      <td>1.373283</td>\n",
       "      <td>13.636364</td>\n",
       "      <td>913.0</td>\n",
       "    </tr>\n",
       "    <tr>\n",
       "      <th>22.0</th>\n",
       "      <th>1.0</th>\n",
       "      <th>44.0</th>\n",
       "      <th>39.0</th>\n",
       "      <td>1.032205</td>\n",
       "      <td>20.000000</td>\n",
       "      <td>1614.0</td>\n",
       "    </tr>\n",
       "    <tr>\n",
       "      <th>23.0</th>\n",
       "      <th>1.0</th>\n",
       "      <th>44.0</th>\n",
       "      <th>39.0</th>\n",
       "      <td>0.939746</td>\n",
       "      <td>17.647059</td>\n",
       "      <td>1188.0</td>\n",
       "    </tr>\n",
       "    <tr>\n",
       "      <th>27.0</th>\n",
       "      <th>1.0</th>\n",
       "      <th>44.0</th>\n",
       "      <th>39.0</th>\n",
       "      <td>0.987092</td>\n",
       "      <td>15.384615</td>\n",
       "      <td>861.0</td>\n",
       "    </tr>\n",
       "    <tr>\n",
       "      <th>30.0</th>\n",
       "      <th>1.0</th>\n",
       "      <th>44.0</th>\n",
       "      <th>39.0</th>\n",
       "      <td>1.064963</td>\n",
       "      <td>50.000000</td>\n",
       "      <td>564.0</td>\n",
       "    </tr>\n",
       "  </tbody>\n",
       "</table>\n",
       "</div>"
      ],
      "text/plain": [
       "                                                ctr        cvr  unique_users\n",
       "age  gender family_status personal_income                                   \n",
       "15.0 1.0    44.0          40.0             1.317829  35.294118         705.0\n",
       "16.0 0.0    44.0          40.0             1.224490  20.000000         639.0\n",
       "17.0 0.0    44.0          38.0             0.916031   0.000000         670.0\n",
       "                          39.0             0.942350  29.411765        1039.0\n",
       "18.0 0.0    44.0          39.0             1.031814  25.000000         703.0\n",
       "     1.0    44.0          39.0             1.047443  23.529412        1054.0\n",
       "19.0 0.0    44.0          38.0             0.962861   0.000000         883.0\n",
       "                          39.0             0.872818  14.285714         527.0\n",
       "20.0 0.0    44.0          38.0             1.373283  13.636364         913.0\n",
       "22.0 1.0    44.0          39.0             1.032205  20.000000        1614.0\n",
       "23.0 1.0    44.0          39.0             0.939746  17.647059        1188.0\n",
       "27.0 1.0    44.0          39.0             0.987092  15.384615         861.0\n",
       "30.0 1.0    44.0          39.0             1.064963  50.000000         564.0"
      ]
     },
     "execution_count": 13,
     "metadata": {},
     "output_type": "execute_result"
    }
   ],
   "source": [
    "# посмотрим на подвыборки с ctr > 0.85 и количеством людей больше 500\n",
    "ctr_cvr_data = data_imputer.groupby(['age', 'gender', 'family_status', 'personal_income']).apply(calculate_ctr_cvr_group)\n",
    "ctr_cvr_data[(ctr_cvr_data['ctr'] > 0.85) & (ctr_cvr_data['unique_users'] > 500)]"
   ]
  },
  {
   "cell_type": "code",
   "execution_count": 14,
   "id": "69971a34",
   "metadata": {
    "scrolled": true
   },
   "outputs": [
    {
     "data": {
      "text/html": [
       "<div>\n",
       "<style scoped>\n",
       "    .dataframe tbody tr th:only-of-type {\n",
       "        vertical-align: middle;\n",
       "    }\n",
       "\n",
       "    .dataframe tbody tr th {\n",
       "        vertical-align: top;\n",
       "    }\n",
       "\n",
       "    .dataframe thead th {\n",
       "        text-align: right;\n",
       "    }\n",
       "</style>\n",
       "<table border=\"1\" class=\"dataframe\">\n",
       "  <thead>\n",
       "    <tr style=\"text-align: right;\">\n",
       "      <th></th>\n",
       "      <th></th>\n",
       "      <th></th>\n",
       "      <th></th>\n",
       "      <th>ctr</th>\n",
       "      <th>cvr</th>\n",
       "      <th>unique_users</th>\n",
       "    </tr>\n",
       "    <tr>\n",
       "      <th>age</th>\n",
       "      <th>gender</th>\n",
       "      <th>family_status</th>\n",
       "      <th>personal_income</th>\n",
       "      <th></th>\n",
       "      <th></th>\n",
       "      <th></th>\n",
       "    </tr>\n",
       "  </thead>\n",
       "  <tbody>\n",
       "    <tr>\n",
       "      <th>19.0</th>\n",
       "      <th>1.0</th>\n",
       "      <th>44.0</th>\n",
       "      <th>38.0</th>\n",
       "      <td>0.638162</td>\n",
       "      <td>50.000000</td>\n",
       "      <td>919.0</td>\n",
       "    </tr>\n",
       "    <tr>\n",
       "      <th>22.0</th>\n",
       "      <th>0.0</th>\n",
       "      <th>44.0</th>\n",
       "      <th>38.0</th>\n",
       "      <td>0.785024</td>\n",
       "      <td>46.153846</td>\n",
       "      <td>994.0</td>\n",
       "    </tr>\n",
       "    <tr>\n",
       "      <th>30.0</th>\n",
       "      <th>1.0</th>\n",
       "      <th>44.0</th>\n",
       "      <th>39.0</th>\n",
       "      <td>1.064963</td>\n",
       "      <td>50.000000</td>\n",
       "      <td>564.0</td>\n",
       "    </tr>\n",
       "    <tr>\n",
       "      <th>32.0</th>\n",
       "      <th>1.0</th>\n",
       "      <th>44.0</th>\n",
       "      <th>39.0</th>\n",
       "      <td>0.405680</td>\n",
       "      <td>50.000000</td>\n",
       "      <td>614.0</td>\n",
       "    </tr>\n",
       "  </tbody>\n",
       "</table>\n",
       "</div>"
      ],
      "text/plain": [
       "                                                ctr        cvr  unique_users\n",
       "age  gender family_status personal_income                                   \n",
       "19.0 1.0    44.0          38.0             0.638162  50.000000         919.0\n",
       "22.0 0.0    44.0          38.0             0.785024  46.153846         994.0\n",
       "30.0 1.0    44.0          39.0             1.064963  50.000000         564.0\n",
       "32.0 1.0    44.0          39.0             0.405680  50.000000         614.0"
      ]
     },
     "execution_count": 14,
     "metadata": {},
     "output_type": "execute_result"
    }
   ],
   "source": [
    "# посмотрим на подвыборки с cvr > 0.85 и количеством людей больше 500\n",
    "ctr_cvr_data[(ctr_cvr_data['cvr'] > 45) & (ctr_cvr_data['unique_users'] > 500)]"
   ]
  },
  {
   "cell_type": "code",
   "execution_count": 15,
   "id": "f9f8ddb6",
   "metadata": {},
   "outputs": [],
   "source": [
    "#выбираем подгруппу с высочайшеми показателями ctr и cvr\n",
    "data_clustering_ctr = data_imputer[(data_imputer['age'] == 20) & (data_imputer['gender'] == 0.0) & (data_imputer['family_status'] == 44.0) & (data_imputer['personal_income'] == 38.0)]\n",
    "data_clustering_cvr = data_imputer[(data_imputer['age'] == 19) & (data_imputer['gender'] == 1.0) & (data_imputer['family_status'] == 44.0) & (data_imputer['personal_income'] == 38.0)]"
   ]
  },
  {
   "cell_type": "markdown",
   "id": "28dc8fd5",
   "metadata": {},
   "source": [
    "#### Значимо ли выше ctr подгруппы, чем для всей выборки?"
   ]
  },
  {
   "cell_type": "code",
   "execution_count": 16,
   "id": "8f2fe2e4",
   "metadata": {},
   "outputs": [],
   "source": [
    "# посчитаем через распределение Бернулли, так как в ctr считаются два \n",
    "# действия: клик и просмотр\n",
    "\n",
    "def bernulli_ctr(data_ctr, alpha, data = data):\n",
    "    #количество кликов в подгруппе и датасете\n",
    "    count = [len(data_ctr[data_ctr['ev_type'] == 1]), len(data[data['ev_type'] == 1])]\n",
    "\n",
    "    #количество просмотров в подгруппе и датасете\n",
    "    nobs = [len(data_ctr[data_ctr['ev_type'] == 0]), len(data[data['ev_type'] == 0])]\n",
    "\n",
    "    # нулевая гипотеза, что в среднем кликов в подгруппе меньше, чем в датасете\n",
    "    # альтернативная - что больше\n",
    "    stat, pval = proportions_ztest(count, nobs, alternative='larger')\n",
    "\n",
    "    if pval < alpha:\n",
    "        print(f'Есть основания отвергнуть нулевую гипотезу, p-value = {pval}, значит различия значимы')\n",
    "    else:\n",
    "        print(f'Нет оснований отвергнуть нулевую гипотезу, p-value = {pval}, значит различия незначимы')"
   ]
  },
  {
   "cell_type": "code",
   "execution_count": 17,
   "id": "3ec7122d",
   "metadata": {},
   "outputs": [
    {
     "name": "stdout",
     "output_type": "stream",
     "text": [
      "Есть основания отвергнуть нулевую гипотезу, p-value = 0.003497618011634284, значит различия значимы\n"
     ]
    }
   ],
   "source": [
    "bernulli_ctr(data_clustering_ctr, 0.05)"
   ]
  },
  {
   "cell_type": "markdown",
   "id": "ba7b7f65",
   "metadata": {},
   "source": [
    "#### Значимо ли выше cvr подгруппы, чем для всей выборки?"
   ]
  },
  {
   "cell_type": "code",
   "execution_count": 18,
   "id": "fe6f529f",
   "metadata": {},
   "outputs": [],
   "source": [
    "# посчитаем через распределение Бернулли, так как в cvr считаются два \n",
    "# действия: клик и конверсия\n",
    "\n",
    "def bernulli_cvr(data_cvr, alpha, data = data):\n",
    "    #количество кликов в подгруппе и датасете\n",
    "    count = [len(data_cvr[data_cvr['ev_type'] == 7]), len(data[data['ev_type'] == 7])]\n",
    "\n",
    "    #количество просмотров в подгруппе и датасете\n",
    "    nobs = [len(data_cvr[data_cvr['ev_type'] == 1]), len(data[data['ev_type'] == 1])]\n",
    "\n",
    "    # нулевая гипотеза, что в среднем кликов в подгруппе меньше, чем в датасете\n",
    "    # альтернативная - что больше\n",
    "    stat, pval = proportions_ztest(count, nobs, alternative='larger')\n",
    "\n",
    "    if pval < alpha:\n",
    "        print(f'Есть основания отвергнуть нулевую гипотезу, p-value = {pval}, значит различия значимы')\n",
    "    else:\n",
    "        print(f'Нет оснований отвергнуть нулевую гипотезу, p-value = {pval}, значит различия незначимы')"
   ]
  },
  {
   "cell_type": "code",
   "execution_count": 19,
   "id": "0b5f8190",
   "metadata": {},
   "outputs": [
    {
     "name": "stdout",
     "output_type": "stream",
     "text": [
      "Нет оснований отвергнуть нулевую гипотезу, p-value = 0.19832254104751923, значит различия незначимы\n"
     ]
    }
   ],
   "source": [
    "bernulli_cvr(data_clustering_cvr, 0.05)"
   ]
  },
  {
   "cell_type": "markdown",
   "id": "da51f56c",
   "metadata": {},
   "source": [
    "#### Размер эффекта ctr и cvr подгруппы от остальных людей; Нижняя граница доверительного интвервала для размера эффекта"
   ]
  },
  {
   "cell_type": "code",
   "execution_count": 20,
   "id": "d8fa5a80",
   "metadata": {},
   "outputs": [],
   "source": [
    "#записываем людей из общего датасета, но только тех, которые не входят в подгруппу\n",
    "data_without_clustering_ctr = data[~data['user_id'].isin (data_clustering_cvr.user_id.unique())]\n",
    "data_without_clustering_cvr = data[~data['user_id'].isin (data_clustering_cvr.user_id.unique())]"
   ]
  },
  {
   "cell_type": "markdown",
   "id": "7c216522",
   "metadata": {},
   "source": [
    "Размер эффекта и нижняя граница доверительного интвервала для ctr:"
   ]
  },
  {
   "cell_type": "code",
   "execution_count": 21,
   "id": "affa9175",
   "metadata": {},
   "outputs": [],
   "source": [
    "def size_effect_and_confidence_interval_ctr(data_ctr, data_without, alpha):\n",
    "    s1 = np.var(data_without[data_without['ev_type']!=7].ev_type)/len(data_without)\n",
    "    s2 = np.var(data_ctr[data_ctr['ev_type']!=7].ev_type)/len(data_ctr)\n",
    "    se = (s1 + s2)**(1/2)\n",
    "\n",
    "    m1 = np.mean(data_without[data_without['ev_type']!=7].ev_type)\n",
    "    m2 = np.mean(data_ctr[data_ctr['ev_type']!=7].ev_type)\n",
    "    d = (m2 - m1)/se\n",
    "    \n",
    "    t_alpha = t.ppf(q=1-alpha/2, df = len(data_without) + len(data_ctr) - 2)\n",
    "    \n",
    "    print(f'Размер эффекта для ctr = {d}')\n",
    "    print(f'Нижний доверительный 95% интервал для размера эффекта = {d - t_alpha * se}')"
   ]
  },
  {
   "cell_type": "code",
   "execution_count": 22,
   "id": "635a0f25",
   "metadata": {
    "scrolled": true
   },
   "outputs": [
    {
     "name": "stdout",
     "output_type": "stream",
     "text": [
      "Размер эффекта для ctr = 2.0268728096327937\n",
      "Нижний доверительный 95% интервал для размера эффекта = 2.0212455819743633\n"
     ]
    }
   ],
   "source": [
    "size_effect_and_confidence_interval_ctr(data_clustering_ctr, data_without_clustering_ctr, 0.05)"
   ]
  },
  {
   "cell_type": "markdown",
   "id": "3702008c",
   "metadata": {},
   "source": [
    "Размер эффекта и нижняя граница доверительного интвервала для cvr:"
   ]
  },
  {
   "cell_type": "code",
   "execution_count": 23,
   "id": "cd1cc334",
   "metadata": {},
   "outputs": [],
   "source": [
    "def size_effect_and_confidence_interval_cvr(data_cvr, data_without, alpha):\n",
    "    s1 = np.var(data_without[data_without['ev_type']!=0].ev_type)/len(data_without)\n",
    "    s2 = np.var(data_cvr[data_cvr['ev_type']!=0].ev_type)/len(data_cvr)\n",
    "    se = (s1 + s2)**(1/2)\n",
    "\n",
    "    m1 = np.mean(data_without[data_without['ev_type']!=0].ev_type)\n",
    "    m2 = np.mean(data_cvr[data_cvr['ev_type']!=0].ev_type)\n",
    "    d = (m2 - m1)/se\n",
    "    \n",
    "    t_alpha = t.ppf(q=1-alpha/2, df = len(data_without) + len(data_cvr) - 2)\n",
    "\n",
    "    print(f'Размер эффекта для cvr = {d}')\n",
    "    print(f'Нижний доверительный 95% интервал для размера эффекта = {d - t_alpha * se}')"
   ]
  },
  {
   "cell_type": "code",
   "execution_count": 24,
   "id": "a2f6449a",
   "metadata": {},
   "outputs": [
    {
     "name": "stdout",
     "output_type": "stream",
     "text": [
      "Размер эффекта для cvr = 5.3489956749334535\n",
      "Нижний доверительный 95% интервал для размера эффекта = 5.209241469232512\n"
     ]
    }
   ],
   "source": [
    "size_effect_and_confidence_interval_cvr(data_clustering_cvr, data_without_clustering_cvr, 0.05)"
   ]
  },
  {
   "cell_type": "markdown",
   "id": "a25846cb",
   "metadata": {},
   "source": [
    "## 2. Кластеризация"
   ]
  },
  {
   "cell_type": "markdown",
   "id": "31a277b7",
   "metadata": {},
   "source": [
    "### 2.1 KMeans кластеризация"
   ]
  },
  {
   "cell_type": "code",
   "execution_count": 25,
   "id": "f1762888",
   "metadata": {
    "scrolled": false
   },
   "outputs": [
    {
     "name": "stdout",
     "output_type": "stream",
     "text": [
      "3               ctr        cvr  unique_users\n",
      "Cluster                                   \n",
      "2        0.732411  46.902655       39819.0 \n",
      "\n",
      "4               ctr        cvr  unique_users\n",
      "Cluster                                   \n",
      "0        0.734154  47.099768       37587.0\n",
      "3        0.852820  31.450382       43975.0 \n",
      "\n",
      "5               ctr        cvr  unique_users\n",
      "Cluster                                   \n",
      "1        0.856138  26.710817       30767.0\n",
      "3        0.847599  48.355263       20410.0\n",
      "4        0.731124  45.646438       33578.0 \n",
      "\n",
      "6               ctr        cvr  unique_users\n",
      "Cluster                                   \n",
      "2        0.788340  55.121951       15022.0\n",
      "5        0.872265  25.000000       25008.0 \n",
      "\n",
      "7               ctr        cvr  unique_users\n",
      "Cluster                                   \n",
      "1        0.775890  56.315789       14045.0\n",
      "6        0.900277  30.769231       20244.0 \n",
      "\n",
      "8               ctr        cvr  unique_users\n",
      "Cluster                                   \n",
      "3        0.702644  45.643154       22453.0\n",
      "6        0.905225  28.879310       17455.0\n",
      "7        0.771444  55.135135       13763.0 \n",
      "\n",
      "9               ctr        cvr  unique_users\n",
      "Cluster                                   \n",
      "1        0.722230  46.500000       21433.0\n",
      "2        0.672556  47.761194       19197.0\n",
      "3        0.881111  48.847926       14305.0\n",
      "5        0.907846  27.155172       17482.0\n",
      "8        0.700775  46.017699       11207.0 \n",
      "\n",
      "10               ctr        cvr  unique_users\n",
      "Cluster                                   \n",
      "3        0.935763  27.074236       16805.0\n",
      "9        0.836758  65.178571        7872.0 \n",
      "\n"
     ]
    }
   ],
   "source": [
    "scaler = StandardScaler()\n",
    "scaled_data = scaler.fit_transform(data_imputer[['age', 'gender', 'family_status', 'employment_status', 'personal_income', 'temperament']])\n",
    "\n",
    "#посчитаем kmeans с разными количествами классов\n",
    "for i in range(3,11):\n",
    "    kmeans = KMeans(n_clusters = i, init = 'k-means++', max_iter = 300, n_init = 10, random_state=42)\n",
    "    clusters = kmeans.fit_predict(scaled_data)\n",
    "\n",
    "    #добавим лейбл класса в датасет\n",
    "    data_clustering_kmeans = data_imputer\n",
    "    data_clustering_kmeans['Cluster'] = clusters\n",
    "    \n",
    "    #считаем ctr и cvr для каждой подгруппы\n",
    "    data_clustering_kmeans = data_clustering_kmeans.groupby(['Cluster']).apply(calculate_ctr_cvr_group)\n",
    "    \n",
    "    #выведем только те подгруппы, у которых ctr и cvr выше 0.85 и 45 соответственно     \n",
    "    print(i , data_clustering_kmeans.loc[(data_clustering_kmeans['ctr'] > 0.85) |  (data_clustering_kmeans['cvr'] > 45)], '\\n')\n"
   ]
  },
  {
   "cell_type": "code",
   "execution_count": 26,
   "id": "dd96e522",
   "metadata": {},
   "outputs": [],
   "source": [
    "#Возьмем подгруппы с максимальным ctr и cvr \n",
    "\n",
    "\n",
    "#ctr выше в kmeans с 10 классами в 3 кластере\n",
    "kmeans = KMeans(n_clusters=10, max_iter = 300, n_init = 10, random_state=42, init = 'k-means++',)\n",
    "clusters = kmeans.fit_predict(scaled_data)\n",
    "\n",
    "data_clustering_kmeans_ctr = data_imputer\n",
    "data_clustering_kmeans_ctr['Cluster'] = clusters\n",
    "data_clustering_kmeans_ctr = data_clustering_kmeans_ctr[data_clustering_kmeans_ctr['Cluster'] == 3]\n",
    "\n",
    "\n",
    "#cvr выше в kmeans с 10 классами в 9 кластере\n",
    "kmeans = KMeans(n_clusters=10, max_iter = 300, n_init = 10, random_state=42, init = 'k-means++',)\n",
    "clusters = kmeans.fit_predict(scaled_data)\n",
    "\n",
    "data_clustering_kmeans_cvr = data_imputer\n",
    "data_clustering_kmeans_cvr['Cluster'] = clusters\n",
    "data_clustering_kmeans_cvr = data_clustering_kmeans_cvr[data_clustering_kmeans_cvr['Cluster'] == 9]"
   ]
  },
  {
   "cell_type": "markdown",
   "id": "a2301221",
   "metadata": {},
   "source": [
    "#### Значимо ли выше ctr подгруппы, чем для всей выборки?"
   ]
  },
  {
   "cell_type": "code",
   "execution_count": 27,
   "id": "016b3321",
   "metadata": {},
   "outputs": [
    {
     "name": "stdout",
     "output_type": "stream",
     "text": [
      "Есть основания отвергнуть нулевую гипотезу, p-value = 0.003892541249273844, значит различия значимы\n"
     ]
    }
   ],
   "source": [
    "bernulli_ctr(data_clustering_kmeans_ctr, 0.05)"
   ]
  },
  {
   "cell_type": "markdown",
   "id": "2759c485",
   "metadata": {},
   "source": [
    "#### Значимо ли выше cvr подгруппы, чем для всей выборки?"
   ]
  },
  {
   "cell_type": "code",
   "execution_count": 28,
   "id": "09af9d41",
   "metadata": {},
   "outputs": [
    {
     "name": "stdout",
     "output_type": "stream",
     "text": [
      "Есть основания отвергнуть нулевую гипотезу, p-value = 1.2623936084668133e-09, значит различия значимы\n"
     ]
    }
   ],
   "source": [
    "bernulli_cvr(data_clustering_kmeans_cvr, 0.05)"
   ]
  },
  {
   "cell_type": "markdown",
   "id": "1e6630f9",
   "metadata": {},
   "source": [
    "#### Размер эффекта ctr и cvr подгруппы от остальных людей; Нижняя граница доверительного интвервала для размера эффекта"
   ]
  },
  {
   "cell_type": "code",
   "execution_count": 29,
   "id": "a3a6588f",
   "metadata": {
    "scrolled": false
   },
   "outputs": [],
   "source": [
    "#записываем людей из общего датасета, но только тех, которые не входят в подгруппу\n",
    "data_without_ctr_kmeans = data[~data['user_id'].isin (data_clustering_kmeans_ctr.user_id.unique())]\n",
    "data_without_cvr_kmeans = data[~data['user_id'].isin (data_clustering_kmeans_cvr.user_id.unique())]"
   ]
  },
  {
   "cell_type": "markdown",
   "id": "37c747a3",
   "metadata": {},
   "source": [
    "Размер эффекта и нижняя граница доверительного интвервала для ctr:"
   ]
  },
  {
   "cell_type": "code",
   "execution_count": 30,
   "id": "d30fa28f",
   "metadata": {},
   "outputs": [
    {
     "name": "stdout",
     "output_type": "stream",
     "text": [
      "Размер эффекта для ctr = 2.7147302622689247\n",
      "Нижний доверительный 95% интервал для размера эффекта = 2.7134828540860063\n"
     ]
    }
   ],
   "source": [
    "size_effect_and_confidence_interval_ctr(data_clustering_kmeans_ctr, data_without_ctr_kmeans, 0.05)"
   ]
  },
  {
   "cell_type": "markdown",
   "id": "34cb07c6",
   "metadata": {},
   "source": [
    "Размер эффекта и нижняя граница доверительного интвервала для cvr:"
   ]
  },
  {
   "cell_type": "code",
   "execution_count": 31,
   "id": "8600614b",
   "metadata": {},
   "outputs": [
    {
     "name": "stdout",
     "output_type": "stream",
     "text": [
      "Размер эффекта для cvr = 31.163635100515005\n",
      "Нижний доверительный 95% интервал для размера эффекта = 31.113192470796648\n"
     ]
    }
   ],
   "source": [
    "size_effect_and_confidence_interval_cvr(data_clustering_kmeans_cvr, data_without_cvr_kmeans, 0.05)"
   ]
  },
  {
   "cell_type": "markdown",
   "id": "d80726b1",
   "metadata": {},
   "source": [
    "### 2.2 Birch кластеризация"
   ]
  },
  {
   "cell_type": "code",
   "execution_count": 32,
   "id": "2380d618",
   "metadata": {
    "scrolled": true
   },
   "outputs": [],
   "source": [
    "scaler = StandardScaler()\n",
    "scaled_data = scaler.fit_transform(data_imputer[['age', 'gender', 'family_status', 'employment_status', 'personal_income', 'temperament']])\n",
    "\n",
    "#посчитаем Birch\n",
    "birch = Birch(n_clusters=10)\n",
    "clusters = birch.fit_predict(scaled_data)\n",
    "\n",
    "#добавим лейбл класса в датасет\n",
    "data_clustering_birch = data_imputer\n",
    "data_clustering_birch['Cluster'] = clusters"
   ]
  },
  {
   "cell_type": "code",
   "execution_count": 33,
   "id": "d97546dc",
   "metadata": {
    "scrolled": true
   },
   "outputs": [
    {
     "data": {
      "text/html": [
       "<div>\n",
       "<style scoped>\n",
       "    .dataframe tbody tr th:only-of-type {\n",
       "        vertical-align: middle;\n",
       "    }\n",
       "\n",
       "    .dataframe tbody tr th {\n",
       "        vertical-align: top;\n",
       "    }\n",
       "\n",
       "    .dataframe thead th {\n",
       "        text-align: right;\n",
       "    }\n",
       "</style>\n",
       "<table border=\"1\" class=\"dataframe\">\n",
       "  <thead>\n",
       "    <tr style=\"text-align: right;\">\n",
       "      <th></th>\n",
       "      <th>ctr</th>\n",
       "      <th>cvr</th>\n",
       "      <th>unique_users</th>\n",
       "    </tr>\n",
       "    <tr>\n",
       "      <th>Cluster</th>\n",
       "      <th></th>\n",
       "      <th></th>\n",
       "      <th></th>\n",
       "    </tr>\n",
       "  </thead>\n",
       "  <tbody>\n",
       "    <tr>\n",
       "      <th>0</th>\n",
       "      <td>0.841940</td>\n",
       "      <td>50.581395</td>\n",
       "      <td>14048.0</td>\n",
       "    </tr>\n",
       "    <tr>\n",
       "      <th>1</th>\n",
       "      <td>0.761576</td>\n",
       "      <td>26.208178</td>\n",
       "      <td>48593.0</td>\n",
       "    </tr>\n",
       "    <tr>\n",
       "      <th>2</th>\n",
       "      <td>0.781909</td>\n",
       "      <td>38.636364</td>\n",
       "      <td>16545.0</td>\n",
       "    </tr>\n",
       "    <tr>\n",
       "      <th>3</th>\n",
       "      <td>0.865570</td>\n",
       "      <td>49.230769</td>\n",
       "      <td>10269.0</td>\n",
       "    </tr>\n",
       "    <tr>\n",
       "      <th>4</th>\n",
       "      <td>0.793797</td>\n",
       "      <td>34.105960</td>\n",
       "      <td>25228.0</td>\n",
       "    </tr>\n",
       "    <tr>\n",
       "      <th>5</th>\n",
       "      <td>0.711337</td>\n",
       "      <td>40.740741</td>\n",
       "      <td>8731.0</td>\n",
       "    </tr>\n",
       "    <tr>\n",
       "      <th>6</th>\n",
       "      <td>0.807891</td>\n",
       "      <td>38.674033</td>\n",
       "      <td>15519.0</td>\n",
       "    </tr>\n",
       "    <tr>\n",
       "      <th>7</th>\n",
       "      <td>0.933925</td>\n",
       "      <td>47.500000</td>\n",
       "      <td>3194.0</td>\n",
       "    </tr>\n",
       "    <tr>\n",
       "      <th>8</th>\n",
       "      <td>0.708426</td>\n",
       "      <td>38.064516</td>\n",
       "      <td>31443.0</td>\n",
       "    </tr>\n",
       "    <tr>\n",
       "      <th>9</th>\n",
       "      <td>0.811551</td>\n",
       "      <td>51.948052</td>\n",
       "      <td>6647.0</td>\n",
       "    </tr>\n",
       "  </tbody>\n",
       "</table>\n",
       "</div>"
      ],
      "text/plain": [
       "              ctr        cvr  unique_users\n",
       "Cluster                                   \n",
       "0        0.841940  50.581395       14048.0\n",
       "1        0.761576  26.208178       48593.0\n",
       "2        0.781909  38.636364       16545.0\n",
       "3        0.865570  49.230769       10269.0\n",
       "4        0.793797  34.105960       25228.0\n",
       "5        0.711337  40.740741        8731.0\n",
       "6        0.807891  38.674033       15519.0\n",
       "7        0.933925  47.500000        3194.0\n",
       "8        0.708426  38.064516       31443.0\n",
       "9        0.811551  51.948052        6647.0"
      ]
     },
     "execution_count": 33,
     "metadata": {},
     "output_type": "execute_result"
    }
   ],
   "source": [
    "data_clustering_birch.groupby(['Cluster']).apply(calculate_ctr_cvr_group)"
   ]
  },
  {
   "cell_type": "code",
   "execution_count": 34,
   "id": "ebaf62a2",
   "metadata": {},
   "outputs": [],
   "source": [
    "data_clustering_birch_ctr = data_clustering_birch[data_clustering_birch['Cluster'] == 7]\n",
    "data_clustering_birch_cvr = data_clustering_birch[data_clustering_birch['Cluster'] == 9]"
   ]
  },
  {
   "cell_type": "markdown",
   "id": "72d21fdf",
   "metadata": {},
   "source": [
    "#### Значимо ли выше ctr подгруппы, чем для всей выборки?"
   ]
  },
  {
   "cell_type": "code",
   "execution_count": 35,
   "id": "31ac9f87",
   "metadata": {},
   "outputs": [
    {
     "name": "stdout",
     "output_type": "stream",
     "text": [
      "Нет оснований отвергнуть нулевую гипотезу, p-value = 0.12507799463983277, значит различия незначимы\n"
     ]
    }
   ],
   "source": [
    "bernulli_ctr(data_clustering_birch_ctr, 0.05)"
   ]
  },
  {
   "cell_type": "markdown",
   "id": "c9203e7d",
   "metadata": {},
   "source": [
    "#### Значимо ли выше cvr подгруппы, чем для всей выборки?"
   ]
  },
  {
   "cell_type": "code",
   "execution_count": 36,
   "id": "78978623",
   "metadata": {},
   "outputs": [
    {
     "name": "stdout",
     "output_type": "stream",
     "text": [
      "Есть основания отвергнуть нулевую гипотезу, p-value = 0.003974445656204952, значит различия значимы\n"
     ]
    }
   ],
   "source": [
    "bernulli_cvr(data_clustering_birch_cvr, 0.05)"
   ]
  },
  {
   "cell_type": "markdown",
   "id": "97455cd1",
   "metadata": {},
   "source": [
    "#### Размер эффекта ctr и cvr подгруппы от остальных людей; Нижняя граница доверительного интвервала для размера эффекта"
   ]
  },
  {
   "cell_type": "code",
   "execution_count": 37,
   "id": "b22f3f34",
   "metadata": {},
   "outputs": [],
   "source": [
    "#записываем людей из общего датасета, но только тех, которые не входят в подгруппу\n",
    "data_without_ctr_birch = data[~data['user_id'].isin (data_clustering_birch_ctr.user_id.unique())]\n",
    "data_without_cvr_birch = data[~data['user_id'].isin (data_clustering_birch_cvr.user_id.unique())]"
   ]
  },
  {
   "cell_type": "markdown",
   "id": "9a75798d",
   "metadata": {},
   "source": [
    "Размер эффекта и нижняя граница доверительного интвервала для ctr:"
   ]
  },
  {
   "cell_type": "code",
   "execution_count": 38,
   "id": "413c8007",
   "metadata": {},
   "outputs": [
    {
     "name": "stdout",
     "output_type": "stream",
     "text": [
      "Размер эффекта для ctr = 1.0756219784793672\n",
      "Нижний доверительный 95% интервал для размера эффекта = 1.072753724070773\n"
     ]
    }
   ],
   "source": [
    "size_effect_and_confidence_interval_ctr(data_clustering_birch_ctr, data_without_ctr_birch, 0.05)"
   ]
  },
  {
   "cell_type": "markdown",
   "id": "b9b4c976",
   "metadata": {},
   "source": [
    "Размер эффекта и нижняя граница доверительного интвервала для cvr:"
   ]
  },
  {
   "cell_type": "code",
   "execution_count": 39,
   "id": "ea31b6bd",
   "metadata": {},
   "outputs": [
    {
     "name": "stdout",
     "output_type": "stream",
     "text": [
      "Размер эффекта для cvr = 16.24366088723013\n",
      "Нижний доверительный 95% интервал для размера эффекта = 16.185788823667817\n"
     ]
    }
   ],
   "source": [
    "size_effect_and_confidence_interval_cvr(data_clustering_birch_cvr, data_without_cvr_birch, 0.05)"
   ]
  },
  {
   "cell_type": "markdown",
   "id": "c1fce2e1",
   "metadata": {},
   "source": [
    "### 2.3 DBSCAN кластеризация"
   ]
  },
  {
   "cell_type": "code",
   "execution_count": 40,
   "id": "98d248e5",
   "metadata": {
    "scrolled": false
   },
   "outputs": [
    {
     "name": "stdout",
     "output_type": "stream",
     "text": [
      "0               ctr        cvr  unique_users\n",
      "Cluster                                   \n",
      "4        0.822889  46.153846        5406.0 \n",
      "\n",
      "1               ctr        cvr  unique_users\n",
      "Cluster                                   \n",
      "2        0.824455  46.153846        5393.0 \n",
      "\n",
      "2               ctr        cvr  unique_users\n",
      "Cluster                                   \n",
      "4        0.822681  46.153846        5408.0 \n",
      "\n",
      "3               ctr        cvr  unique_users\n",
      "Cluster                                   \n",
      "2        0.822889  46.153846        5406.0 \n",
      "\n",
      "4               ctr        cvr  unique_users\n",
      "Cluster                                   \n",
      "6        0.820707  46.153846        5426.0 \n",
      "\n",
      "5               ctr        cvr  unique_users\n",
      "Cluster                                   \n",
      "4        0.821537  46.153846        5419.0 \n",
      "\n"
     ]
    }
   ],
   "source": [
    "scaler = StandardScaler()\n",
    "scaled_data = scaler.fit_transform(data_imputer[['age', 'gender', 'family_status', 'employment_status', 'personal_income', 'temperament']])\n",
    "\n",
    "pairs_of_hyperparams = [\n",
    "                            [0.1,20],\n",
    "                            [0.1,50],\n",
    "                            [0.2,20],\n",
    "                            [0.2,50],\n",
    "                            [0.3,20],\n",
    "                            [0.3,50],\n",
    "                       ]\n",
    "\n",
    "for i, s in enumerate(pairs_of_hyperparams):\n",
    "    \n",
    "    dbscan = DBSCAN(eps=s[0], min_samples=s[1]).fit(scaled_data)\n",
    "    clusters = dbscan.fit_predict(scaled_data)\n",
    "    \n",
    "    #добавим лейбл класса в датасет\n",
    "    data_clustering_dbscan = data_imputer\n",
    "    data_clustering_dbscan['Cluster'] = clusters\n",
    "    \n",
    "    #считаем ctr и cvr для каждой подгруппы\n",
    "    data_clustering_dbscan = data_clustering_dbscan.groupby(['Cluster']).apply(calculate_ctr_cvr_group)\n",
    "    \n",
    "    #выведем только те подгруппы, у которых ctr и cvr выше 0.85 и 45 соответственно и уникальных пользователей больше 5000  \n",
    "    print(i , data_clustering_dbscan.loc[(data_clustering_dbscan['unique_users'] > 5000) & ((data_clustering_dbscan['ctr'] > 0.85) |  (data_clustering_dbscan['cvr'] > 45))], '\\n')"
   ]
  },
  {
   "cell_type": "code",
   "execution_count": 41,
   "id": "f2b44c6d",
   "metadata": {},
   "outputs": [],
   "source": [
    "#для ctr > 0.85 и с 5000 уникальными пользователями dbscan не нашел кластеров\n",
    "#поэтому считаем только для cvr\n",
    "\n",
    "#cvr во всех кластерах одинаковый, поэтому возьмем с первыми параметрами\n",
    "dbscan = DBSCAN(eps=0.1, min_samples=20)\n",
    "clusters = dbscan.fit_predict(scaled_data)\n",
    "\n",
    "data_clustering_dbscan_cvr = data_imputer\n",
    "data_clustering_dbscan_cvr['Cluster'] = clusters\n",
    "data_clustering_dbscan_cvr = data_clustering_dbscan_cvr[data_clustering_dbscan_cvr['Cluster'] == 4]"
   ]
  },
  {
   "cell_type": "markdown",
   "id": "62a1a9c0",
   "metadata": {},
   "source": [
    "#### Значимо ли выше cvr подгруппы, чем для всей выборки?"
   ]
  },
  {
   "cell_type": "code",
   "execution_count": 42,
   "id": "b7143f59",
   "metadata": {},
   "outputs": [
    {
     "name": "stdout",
     "output_type": "stream",
     "text": [
      "Нет оснований отвергнуть нулевую гипотезу, p-value = 0.06699834255498227, значит различия незначимы\n"
     ]
    }
   ],
   "source": [
    "bernulli_cvr(data_clustering_dbscan_cvr, 0.05)"
   ]
  },
  {
   "cell_type": "markdown",
   "id": "1b2f544e",
   "metadata": {},
   "source": [
    "#### Размер эффекта ctr и cvr подгруппы от остальных людей; Нижняя граница доверительного интвервала для размера эффекта"
   ]
  },
  {
   "cell_type": "code",
   "execution_count": 43,
   "id": "de49f8ef",
   "metadata": {},
   "outputs": [],
   "source": [
    "#записываем людей из общего датасета, но только тех, которые не входят в подгруппу\n",
    "data_without_cvr_dbscan = data[~data['user_id'].isin (data_clustering_dbscan_cvr.user_id.unique())]"
   ]
  },
  {
   "cell_type": "markdown",
   "id": "08d2a4a2",
   "metadata": {},
   "source": [
    "Размер эффекта и нижняя граница доверительного интвервала для cvr:"
   ]
  },
  {
   "cell_type": "code",
   "execution_count": 44,
   "id": "2ac85773",
   "metadata": {},
   "outputs": [
    {
     "name": "stdout",
     "output_type": "stream",
     "text": [
      "Размер эффекта для cvr = 9.001244996524548\n",
      "Нижний доверительный 95% интервал для размера эффекта = 8.939216522076318\n"
     ]
    }
   ],
   "source": [
    "size_effect_and_confidence_interval_cvr(data_clustering_dbscan_cvr, data_without_cvr_dbscan, 0.05)"
   ]
  },
  {
   "cell_type": "code",
   "execution_count": null,
   "id": "67e84c10",
   "metadata": {},
   "outputs": [],
   "source": []
  },
  {
   "cell_type": "code",
   "execution_count": null,
   "id": "6fcb50cb",
   "metadata": {},
   "outputs": [],
   "source": []
  },
  {
   "cell_type": "code",
   "execution_count": null,
   "id": "9bf339b2",
   "metadata": {},
   "outputs": [],
   "source": []
  },
  {
   "cell_type": "code",
   "execution_count": null,
   "id": "6548f89c",
   "metadata": {},
   "outputs": [],
   "source": []
  },
  {
   "cell_type": "code",
   "execution_count": null,
   "id": "b0331b60",
   "metadata": {},
   "outputs": [],
   "source": []
  },
  {
   "cell_type": "code",
   "execution_count": null,
   "id": "efab6c09",
   "metadata": {},
   "outputs": [],
   "source": []
  },
  {
   "cell_type": "code",
   "execution_count": null,
   "id": "0d2b6f71",
   "metadata": {},
   "outputs": [],
   "source": []
  },
  {
   "cell_type": "code",
   "execution_count": null,
   "id": "d0121ec4",
   "metadata": {},
   "outputs": [],
   "source": []
  }
 ],
 "metadata": {
  "kernelspec": {
   "display_name": "Python 3 (ipykernel)",
   "language": "python",
   "name": "python3"
  },
  "language_info": {
   "codemirror_mode": {
    "name": "ipython",
    "version": 3
   },
   "file_extension": ".py",
   "mimetype": "text/x-python",
   "name": "python",
   "nbconvert_exporter": "python",
   "pygments_lexer": "ipython3",
   "version": "3.9.12"
  }
 },
 "nbformat": 4,
 "nbformat_minor": 5
}
